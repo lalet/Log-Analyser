{
 "cells": [
  {
   "cell_type": "code",
   "execution_count": 7,
   "metadata": {
    "collapsed": false,
    "deletable": true,
    "editable": true
   },
   "outputs": [
    {
     "name": "stdout",
     "output_type": "stream",
     "text": [
      "counts\n",
      "63854\n",
      "65405\n"
     ]
    }
   ],
   "source": [
    "textFile = sc.textFile(\"iliad\")\n",
    "\n",
    "textFileTwo= sc.textFile(\"odyssey\")\n",
    "\n",
    "print \"counts\"\n",
    "print textFile.count()\n",
    "print textFileTwo.count()\n",
    "\n",
    "\n",
    "\n",
    "\n"
   ]
  },
  {
   "cell_type": "code",
   "execution_count": 9,
   "metadata": {
    "collapsed": false
   },
   "outputs": [
    {
     "name": "stdout",
     "output_type": "stream",
     "text": [
      "Achilles\n",
      "[(1, 5173)] [(1, 5228)]\n"
     ]
    }
   ],
   "source": [
    "#Filter function for fomd the number of times achilles loggedin\n",
    "def filter_user_achilles(line):\n",
    "  if \"starting session\" in line.lower() and \"user achille\" in line.lower():\n",
    "    return line\n",
    "\n",
    "\n",
    "counts = textFile.flatMap(lambda x:[x]) \\\n",
    "\t\t .filter(lambda x:filter_user_achilles(x)) \\\n",
    "                 .map(lambda x: (1, 1)) \\\n",
    "                 .reduceByKey(lambda x, y: x + y).collect()\n",
    "            \n",
    "\n",
    "counts2 = textFileTwo.flatMap(lambda x:[x]) \\\n",
    "\t\t .filter(lambda x:filter_user_achilles(x)) \\\n",
    "                 .map(lambda x: (1, 1)) \\\n",
    "                 .reduceByKey(lambda x, y: x + y).collect()\n",
    "\n",
    "print \"Achilles\"\n",
    "print counts,counts2\n"
   ]
  },
  {
   "cell_type": "code",
   "execution_count": 13,
   "metadata": {
    "collapsed": false
   },
   "outputs": [
    {
     "name": "stdout",
     "output_type": "stream",
     "text": [
      "Users\n",
      "iliad: ['gaia', 'pollux', 'achille', 'helene', 'hector'] \n",
      "odyssey: ['achille', 'hector', 'ares']\n"
     ]
    }
   ],
   "source": [
    "users = textFile.flatMap(lambda x:[x]) \\\n",
    "                     .filter(lambda line:\"systemd: starting session \" in line.lower() ) \\\n",
    "                     .map(lambda line: str(line.split(\"user\")[-1].strip()[:-1])) \\\n",
    "     \t\t         .distinct()  \\\n",
    "\t\t             .collect()\n",
    "                    \n",
    "users2 = textFileTwo.flatMap(lambda x:[x]) \\\n",
    "                .filter(lambda line:\"systemd: starting session \" in line.lower() ) \\\n",
    "                .map(lambda line: str(line.split(\"user\")[-1].strip()[:-1])) \\\n",
    "     \t\t    .distinct()  \\\n",
    "\t\t        .collect()\n",
    "print \"Users\"\n",
    "print \"iliad:\",users,\"\\n\",\"odyssey:\",users2              "
   ]
  },
  {
   "cell_type": "code",
   "execution_count": 14,
   "metadata": {
    "collapsed": false
   },
   "outputs": [
    {
     "name": "stdout",
     "output_type": "stream",
     "text": [
      "[('gaia', 2), ('pollux', 38), ('achille', 5173), ('helene', 248), ('hector', 9)] \n",
      "[('achille', 5228), ('hector', 2), ('ares', 40)]\n"
     ]
    }
   ],
   "source": [
    "session = textFile.flatMap(lambda x:[x]) \\\n",
    "                        .filter(lambda line:\"systemd: starting session \" in line.lower() ) \\\n",
    "                        .map(lambda line: (str(line.split(\"user\")[-1].strip()[:-1]),1)) \\\n",
    "\t\t                .reduceByKey(lambda x, y: x + y) \\\n",
    "                        .collect()\n",
    "\n",
    "session2 = textFileTwo.flatMap(lambda x:[x]) \\\n",
    "                        .filter(lambda line:\"systemd: starting session \" in line.lower() ) \\\n",
    "                        .map(lambda line: (str(line.split(\"user\")[-1].strip()[:-1]),1)) \\\n",
    "\t\t                .reduceByKey(lambda x, y: x + y) \\\n",
    "                        .collect()\n",
    "\n",
    "print session,\"\\n\",session2"
   ]
  },
  {
   "cell_type": "code",
   "execution_count": 15,
   "metadata": {
    "collapsed": false
   },
   "outputs": [
    {
     "name": "stdout",
     "output_type": "stream",
     "text": [
      "[(1, 2723)] \n",
      "[(1, 25805)]\n"
     ]
    }
   ],
   "source": [
    "errors = textFile.flatMap(lambda x:[x]) \\\n",
    "                       .filter(lambda line:\"error\" in (line.lower()) ) \\\n",
    "                       .map(lambda line: (1,1)) \\\n",
    "                       .reduceByKey(lambda x, y: x + y) \\\n",
    "                       .collect()\n",
    "\n",
    "errors2 = textFileTwo.flatMap(lambda x:[x]) \\\n",
    "                       .filter(lambda line:\"error\" in (line.lower()) ) \\\n",
    "                       .map(lambda line: (1,1)) \\\n",
    "                       .reduceByKey(lambda x, y: x + y) \\\n",
    "                       .collect()\n",
    "\n",
    "print errors,\"\\n\",errors2"
   ]
  },
  {
   "cell_type": "code",
   "execution_count": 19,
   "metadata": {
    "collapsed": false
   },
   "outputs": [
    {
     "name": "stdout",
     "output_type": "stream",
     "text": [
      "[(u' journal: ethtool ioctl error: No such device', 889), (u' gnome-session: ** (evince:31187): WARNING **: Error setting file metadata: No such file or directory', 24), (u' gnome-session: https://yum.dockerproject.org/repo/main/centos/7/repodata/3849c07e5505140b8134d3cf1bef35cd1cfe4797bee74799953d73a568694fd1-filelists.sqlite.bz2: [Errno 14] HTTPS Error 403 - Forbidden', 9), (u\" gnome-session: GDBus.Error:org.gtk.GDBus.UnmappedGError.Quark._imsettings_2derror_2dquark.Code5: Current desktop isn't targeted by IMSettings.\", 9), (u' firefox.desktop: Crash Annotation GraphicsCriticalError: |[0][GFX1-]: GLContext is disabled due to a previous crash.|[6][GFX1-]: GLContext is disabled due to a previous crash.|[2][GFX1-]: GLContext is disabled due to a previous crash.|[3][GFX1-]: GLContext is disabled due to a previous crash.|[4][GFX1-]: GLContext is disabled due to a previous crash.|[5][GFX1-]: GLContext is disabled due to a previous crash.[GFX1-]: GLContext is disabled due to a previous crash.', 8)] \n",
      "[(u' gnome-session: (tracker-miner-fs:30474): Tracker-CRITICAL **: Could not execute sparql: column nie:url is not unique (strerror of errno (not necessarily related): No such file or directory)', 9229), (u' gnome-session: (tracker-miner-fs:30474): Tracker-CRITICAL **:   (Sparql buffer) Error in task 0 of the array-update: column nie:url is not unique (strerror of errno (not necessarily related): No such file or directory)', 4519), (u' gnome-session: (tracker-miner-fs:30474): Tracker-CRITICAL **:   (Sparql buffer) Error in task 2 of the array-update: column nie:url is not unique (strerror of errno (not necessarily related): No such file or directory)', 2776), (u' gnome-session: (tracker-miner-fs:1259): Tracker-CRITICAL **: Could not execute sparql: column nie:url is not unique (strerror of errno (not necessarily related): No such file or directory)', 2401), (u' gnome-session: (tracker-miner-fs:1259): Tracker-CRITICAL **:   (Sparql buffer) Error in task 0 of the array-update: column nie:url is not unique (strerror of errno (not necessarily related): No such file or directory)', 1697)]\n"
     ]
    }
   ],
   "source": [
    "error_counts = textFile.flatMap(lambda x:[x]) \\\n",
    "               \t     .filter(lambda line:\"error\" in (line.lower())) \\\n",
    "                     .map(lambda line: (line.split(\"iliad\")[1] if len(line.split(\"iliad\"))>=2 else None,1)) \\\n",
    "\t\t             .filter(lambda line:line is not None) \\\n",
    "                     .reduceByKey(lambda x, y: x + y) \\\n",
    "\t                 .sortBy(lambda x: x[1],ascending=False) \\\n",
    "                     .collect()\n",
    "\n",
    "error_counts2 = textFileTwo.flatMap(lambda x:[x]) \\\n",
    "               \t     .filter(lambda line:\"error\" in (line.lower())) \\\n",
    "                     .map(lambda line: (line.split(\"odyssey\")[1] if len(line.split(\"odyssey\"))>=2 else None,1)) \\\n",
    "\t\t             .filter(lambda line:line is not None) \\\n",
    "                     .reduceByKey(lambda x, y: x + y) \\\n",
    "\t                 .sortBy(lambda x: x[1],ascending=False) \\\n",
    "                     .collect()\n",
    "\n",
    "print error_counts[0:5],\"\\n\",error_counts2[0:5]"
   ]
  },
  {
   "cell_type": "code",
   "execution_count": 22,
   "metadata": {
    "collapsed": true
   },
   "outputs": [],
   "source": [
    "unique_users = textFile.flatMap(lambda x:[x]) \\\n",
    "               \t\t    .filter(lambda line:\"systemd: starting session \" in line.lower()) \\\n",
    "               \t\t    .map(lambda line:(str(line.split(\"user\")[-1].strip()[:-1]),\"iliad\")) \\\n",
    "\t\t\t            .filter(lambda line:line is not None) \\\n",
    "               \t\t    .distinct() \n",
    "\n",
    "\n",
    "unique_users_iliad = textFileTwo.flatMap(lambda x:[x]) \\\n",
    "                                .filter(lambda line:\"systemd: Starting Session \" in line) \\\n",
    "                                .map(lambda line:(str(line.split(\"user\")[-1].strip()[:-1]),\"odyssey\")) \\\n",
    "                                .filter(lambda line:line is not None) \\\n",
    "                                .distinct() \n",
    "\n",
    "\n",
    "combined_rdd = unique_users.union(unique_users_iliad)"
   ]
  },
  {
   "cell_type": "code",
   "execution_count": 23,
   "metadata": {
    "collapsed": false
   },
   "outputs": [
    {
     "name": "stdout",
     "output_type": "stream",
     "text": [
      "['achille', 'hector']\n"
     ]
    }
   ],
   "source": [
    "multiple_hosts = combined_rdd.reduceByKey(lambda x,y:x+\",\"+y) \\\n",
    "\t\t\t   .map(lambda x:x[0] if len(x[1].split(\",\")) > 1 else None)  \\\n",
    "\t\t\t   .filter(lambda line:line is not None) \\\n",
    "\t\t\t   .collect()\n",
    "\n",
    "print multiple_hosts"
   ]
  },
  {
   "cell_type": "code",
   "execution_count": 24,
   "metadata": {
    "collapsed": false
   },
   "outputs": [
    {
     "name": "stdout",
     "output_type": "stream",
     "text": [
      "[('gaia', 'iliad'), ('pollux', 'iliad'), ('helene', 'iliad'), ('ares', 'odyssey')]\n"
     ]
    }
   ],
   "source": [
    "single_login = combined_rdd.reduceByKey(lambda x,y:x+\",\"+y) \\\n",
    "                             .map(lambda x:x if len(x[1].split(\",\"))==1 else None)  \\\n",
    "\t\t\t                 .filter(lambda line:line is not None) \\\n",
    "                             .collect()\n",
    "\n",
    "print single_login"
   ]
  },
  {
   "cell_type": "code",
   "execution_count": 25,
   "metadata": {
    "collapsed": false
   },
   "outputs": [
    {
     "name": "stdout",
     "output_type": "stream",
     "text": [
      "['achille', 'gaia', 'hector', 'helene', 'pollux'] \n",
      "['achille', 'ares', 'hector']\n"
     ]
    }
   ],
   "source": [
    "users_sorted_list1 = textFile.flatMap(lambda x:[x]) \\\n",
    "                          .filter(lambda line:\"systemd: Starting Session \" in line ) \\\n",
    "                          .map(lambda line: str(line.split(\"user\")[-1].strip()[:-1])) \\\n",
    "                          .distinct()  \\\n",
    "\t\t                  .sortBy(lambda x:x) \\\n",
    "                          .collect()\n",
    "\n",
    "users_sorted_list2 = textFileTwo.flatMap(lambda x:[x]) \\\n",
    "                          .filter(lambda line:\"systemd: Starting Session \" in line ) \\\n",
    "                          .map(lambda line: str(line.split(\"user\")[-1].strip()[:-1])) \\\n",
    "                          .distinct()  \\\n",
    "\t\t                  .sortBy(lambda x:x) \\\n",
    "                          .collect()\n",
    "\n",
    "\n",
    "print users_sorted_list1,\"\\n\",users_sorted_list2"
   ]
  },
  {
   "cell_type": "code",
   "execution_count": null,
   "metadata": {
    "collapsed": true
   },
   "outputs": [],
   "source": [
    "#Function to anonymize the user names in log files and write as a separate file\n",
    "def anonymize_user_names(line,users_sorted_list):\n",
    "  for user in users_sorted_list:\n",
    "    if user in line:\n",
    "      line = line.replace(user,\"user-\"+str(users_sorted_list.index(user)))\n",
    "      return line\n",
    "  return line\n",
    "\n",
    "anonymised_file1 = textFile.flatMap(lambda x:[x]) \\\n",
    "\t\t                      .map(lambda line: anonymize_user_names(line,users_sorted_list1)) \\\n",
    "\t\t\t                  .map(lambda line:anonymize_user_names(line,users_sorted_list1) if \"su:\" in line else line) \\\n",
    "  \t\t\t\t              .saveAsTextFile(\"anonymised-files-\"+\"iliad\")\n",
    "\n",
    "anonymised_file2 = textFileTwo.flatMap(lambda x:[x]) \\\n",
    "\t\t                      .map(lambda line: anonymize_user_names(line,users_sorted_list2)) \\\n",
    "\t\t\t                  .map(lambda line:anonymize_user_names(line,users_sorted_list2) if \"su:\" in line else line) \\\n",
    "  \t\t\t\t              .saveAsTextFile(\"anonymised-files-\"+\"odyssey\")"
   ]
  }
 ],
 "metadata": {
  "kernelspec": {
   "display_name": "Python 2",
   "language": "python",
   "name": "python2"
  },
  "language_info": {
   "codemirror_mode": {
    "name": "ipython",
    "version": 2
   },
   "file_extension": ".py",
   "mimetype": "text/x-python",
   "name": "python",
   "nbconvert_exporter": "python",
   "pygments_lexer": "ipython2",
   "version": "2.7.12"
  }
 },
 "nbformat": 4,
 "nbformat_minor": 2
}
